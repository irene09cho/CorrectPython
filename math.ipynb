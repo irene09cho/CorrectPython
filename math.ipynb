{
 "cells": [
  {
   "cell_type": "code",
   "execution_count": 2,
   "metadata": {},
   "outputs": [
    {
     "data": {
      "text/plain": [
       "2"
      ]
     },
     "execution_count": 2,
     "metadata": {},
     "output_type": "execute_result"
    }
   ],
   "source": [
    "1+1"
   ]
  },
  {
   "cell_type": "code",
   "execution_count": 4,
   "metadata": {},
   "outputs": [
    {
     "data": {
      "text/plain": [
       "Fraction(-16, 5)"
      ]
     },
     "execution_count": 4,
     "metadata": {},
     "output_type": "execute_result"
    }
   ],
   "source": [
    "from fractions import Fraction\n",
    "Fraction(16, -10) * 2"
   ]
  },
  {
   "cell_type": "code",
   "execution_count": 5,
   "metadata": {
    "scrolled": true
   },
   "outputs": [
    {
     "name": "stdout",
     "output_type": "stream",
     "text": [
      "2\n",
      "3\n",
      "5\n",
      "7\n",
      "11\n",
      "13\n",
      "17\n",
      "19\n",
      "23\n",
      "29\n",
      "31\n",
      "37\n",
      "41\n",
      "43\n",
      "47\n"
     ]
    }
   ],
   "source": [
    "lower = 1\n",
    "upper = 50\n",
    "\n",
    "for num in range(lower,upper + 1):  \n",
    "   if num > 1:  \n",
    "       for i in range(2,num):  \n",
    "           if (num % i) == 0:  \n",
    "               break  \n",
    "       else:  \n",
    "           print(num)  \n"
   ]
  },
  {
   "cell_type": "code",
   "execution_count": 6,
   "metadata": {},
   "outputs": [
    {
     "data": {
      "text/plain": [
       "9"
      ]
     },
     "execution_count": 6,
     "metadata": {},
     "output_type": "execute_result"
    }
   ],
   "source": [
    "3 ** 2"
   ]
  },
  {
   "cell_type": "code",
   "execution_count": 10,
   "metadata": {},
   "outputs": [
    {
     "data": {
      "text/plain": [
       "[3, 3, 2]"
      ]
     },
     "execution_count": 10,
     "metadata": {},
     "output_type": "execute_result"
    }
   ],
   "source": [
    "from math import gcd\n",
    "\n",
    "def factorization(n):\n",
    "\n",
    "    factors = []\n",
    "\n",
    "    def get_factor(n):\n",
    "        x_fixed = 2\n",
    "        cycle_size = 2\n",
    "        x = 2\n",
    "        factor = 1\n",
    "\n",
    "        while factor == 1:\n",
    "            for count in range(cycle_size):\n",
    "                if factor > 1: break\n",
    "                x = (x * x + 1) % n\n",
    "                factor = gcd(x - x_fixed, n)\n",
    "\n",
    "            cycle_size *= 2\n",
    "            x_fixed = x\n",
    "\n",
    "        return factor\n",
    "\n",
    "    while n > 1:\n",
    "        next = get_factor(n)\n",
    "        factors.append(next)\n",
    "        n //= next\n",
    "\n",
    "    return factors\n",
    "\n",
    "factorization(18)"
   ]
  },
  {
   "cell_type": "code",
   "execution_count": 12,
   "metadata": {},
   "outputs": [
    {
     "ename": "TypeError",
     "evalue": "gcd expected 2 arguments, got 3",
     "output_type": "error",
     "traceback": [
      "\u001b[1;31m---------------------------------------------------------------------------\u001b[0m",
      "\u001b[1;31mTypeError\u001b[0m                                 Traceback (most recent call last)",
      "\u001b[1;32m<ipython-input-12-1f8ae0aa0b13>\u001b[0m in \u001b[0;36m<module>\u001b[1;34m\u001b[0m\n\u001b[0;32m      1\u001b[0m \u001b[1;32mimport\u001b[0m \u001b[0mmath\u001b[0m\u001b[1;33m\u001b[0m\u001b[1;33m\u001b[0m\u001b[0m\n\u001b[1;32m----> 2\u001b[1;33m \u001b[0mmath\u001b[0m\u001b[1;33m.\u001b[0m\u001b[0mgcd\u001b[0m\u001b[1;33m(\u001b[0m\u001b[1;36m36\u001b[0m\u001b[1;33m,\u001b[0m\u001b[1;36m54\u001b[0m\u001b[1;33m,\u001b[0m\u001b[1;36m72\u001b[0m\u001b[1;33m)\u001b[0m\u001b[1;33m\u001b[0m\u001b[1;33m\u001b[0m\u001b[0m\n\u001b[0m",
      "\u001b[1;31mTypeError\u001b[0m: gcd expected 2 arguments, got 3"
     ]
    }
   ],
   "source": [
    "import math\n",
    "math.gcd(36,54,72)"
   ]
  },
  {
   "cell_type": "code",
   "execution_count": 14,
   "metadata": {},
   "outputs": [
    {
     "name": "stdout",
     "output_type": "stream",
     "text": [
      "18\n"
     ]
    }
   ],
   "source": [
    "def find_gcd(x, y): \n",
    "    while(y): \n",
    "        x, y = y, x % y \n",
    "  \n",
    "    return x \n",
    "      \n",
    "      \n",
    "l = [36, 54, 72] \n",
    "  \n",
    "num1=l[0] \n",
    "num2=l[1] \n",
    "gcd=find_gcd(num1,num2) \n",
    "  \n",
    "for i in range(2,len(l)): \n",
    "    gcd=find_gcd(gcd,l[i]) \n",
    "      \n",
    "print(gcd) \n"
   ]
  },
  {
   "cell_type": "code",
   "execution_count": 15,
   "metadata": {},
   "outputs": [
    {
     "data": {
      "text/plain": [
       "60"
      ]
     },
     "execution_count": 15,
     "metadata": {},
     "output_type": "execute_result"
    }
   ],
   "source": [
    "def lcm(a, b):\n",
    "    return abs(a*b) // math.gcd(a, b)\n",
    "\n",
    "lcm(12,30)"
   ]
  },
  {
   "cell_type": "code",
   "execution_count": 21,
   "metadata": {},
   "outputs": [
    {
     "data": {
      "text/plain": [
       "[1]"
      ]
     },
     "execution_count": 21,
     "metadata": {},
     "output_type": "execute_result"
    }
   ],
   "source": [
    "from sympy import Symbol, solve\n",
    "x=Symbol('x')\n",
    "equation = 5 -2*x - 3\n",
    "solve(equation)"
   ]
  },
  {
   "cell_type": "code",
   "execution_count": null,
   "metadata": {},
   "outputs": [],
   "source": []
  }
 ],
 "metadata": {
  "kernelspec": {
   "display_name": "Python 3",
   "language": "python",
   "name": "python3"
  }
 },
 "nbformat": 4,
 "nbformat_minor": 4
}
